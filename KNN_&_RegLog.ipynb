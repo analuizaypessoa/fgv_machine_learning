{
 "cells": [
  {
   "cell_type": "markdown",
   "metadata": {},
   "source": [
    "# Análise: Output95"
   ]
  },
  {
   "cell_type": "code",
   "execution_count": 1,
   "metadata": {
    "collapsed": true
   },
   "outputs": [],
   "source": [
    "import pandas as pd\n",
    "import numpy as np\n",
    "import matplotlib.pyplot as plt\n",
    "from sklearn.neighbors import KNeighborsClassifier\n",
    "from sklearn.model_selection import train_test_split\n",
    "from sklearn.metrics import classification_report\n",
    "from sklearn.metrics import confusion_matrix\n",
    "from sklearn.linear_model import LogisticRegression\n",
    "from sklearn.model_selection import cross_val_score\n",
    "from sklearn.model_selection import cross_validate\n",
    "from sklearn.metrics import average_precision_score\n",
    "from sklearn.metrics import precision_recall_curve\n",
    "from sklearn.metrics import precision_score, recall_score, f1_score\n",
    "from sklearn.metrics import roc_curve, auc, roc_auc_score\n",
    "%matplotlib inline"
   ]
  },
  {
   "cell_type": "code",
   "execution_count": 2,
   "metadata": {
    "collapsed": false
   },
   "outputs": [
    {
     "data": {
      "text/html": [
       "<div>\n",
       "<table border=\"1\" class=\"dataframe\">\n",
       "  <thead>\n",
       "    <tr style=\"text-align: right;\">\n",
       "      <th></th>\n",
       "      <th>FEMALE</th>\n",
       "      <th>NONWHITE</th>\n",
       "      <th>UNION</th>\n",
       "      <th>EDUC</th>\n",
       "      <th>AGE</th>\n",
       "      <th>EXPER</th>\n",
       "      <th>WAGE</th>\n",
       "      <th>LNWAGE</th>\n",
       "    </tr>\n",
       "  </thead>\n",
       "  <tbody>\n",
       "    <tr>\n",
       "      <th>0</th>\n",
       "      <td>1</td>\n",
       "      <td>0</td>\n",
       "      <td>0</td>\n",
       "      <td>16</td>\n",
       "      <td>46</td>\n",
       "      <td>24</td>\n",
       "      <td>7.000</td>\n",
       "      <td>1.945910</td>\n",
       "    </tr>\n",
       "    <tr>\n",
       "      <th>1</th>\n",
       "      <td>1</td>\n",
       "      <td>0</td>\n",
       "      <td>0</td>\n",
       "      <td>12</td>\n",
       "      <td>54</td>\n",
       "      <td>36</td>\n",
       "      <td>13.500</td>\n",
       "      <td>2.602690</td>\n",
       "    </tr>\n",
       "    <tr>\n",
       "      <th>2</th>\n",
       "      <td>1</td>\n",
       "      <td>0</td>\n",
       "      <td>0</td>\n",
       "      <td>20</td>\n",
       "      <td>42</td>\n",
       "      <td>16</td>\n",
       "      <td>15.350</td>\n",
       "      <td>2.731115</td>\n",
       "    </tr>\n",
       "    <tr>\n",
       "      <th>3</th>\n",
       "      <td>0</td>\n",
       "      <td>0</td>\n",
       "      <td>0</td>\n",
       "      <td>12</td>\n",
       "      <td>39</td>\n",
       "      <td>21</td>\n",
       "      <td>23.125</td>\n",
       "      <td>3.140914</td>\n",
       "    </tr>\n",
       "    <tr>\n",
       "      <th>4</th>\n",
       "      <td>0</td>\n",
       "      <td>0</td>\n",
       "      <td>0</td>\n",
       "      <td>18</td>\n",
       "      <td>54</td>\n",
       "      <td>30</td>\n",
       "      <td>12.000</td>\n",
       "      <td>2.484907</td>\n",
       "    </tr>\n",
       "  </tbody>\n",
       "</table>\n",
       "</div>"
      ],
      "text/plain": [
       "   FEMALE  NONWHITE  UNION  EDUC  AGE  EXPER    WAGE    LNWAGE\n",
       "0       1         0      0    16   46     24   7.000  1.945910\n",
       "1       1         0      0    12   54     36  13.500  2.602690\n",
       "2       1         0      0    20   42     16  15.350  2.731115\n",
       "3       0         0      0    12   39     21  23.125  3.140914\n",
       "4       0         0      0    18   54     30  12.000  2.484907"
      ]
     },
     "execution_count": 2,
     "metadata": {},
     "output_type": "execute_result"
    }
   ],
   "source": [
    "dados = pd.read_csv('output95_update.csv')\n",
    "dados.head()"
   ]
  },
  {
   "cell_type": "code",
   "execution_count": 3,
   "metadata": {
    "collapsed": true
   },
   "outputs": [],
   "source": [
    "sub_df = dados.drop(['FEMALE','NONWHITE','UNION','AGE','LNWAGE'], axis='columns')\n",
    "sub_df['y'] = (sub_df['WAGE'] > 15).astype(int)"
   ]
  },
  {
   "cell_type": "code",
   "execution_count": 4,
   "metadata": {
    "collapsed": false
   },
   "outputs": [
    {
     "data": {
      "text/html": [
       "<div>\n",
       "<table border=\"1\" class=\"dataframe\">\n",
       "  <thead>\n",
       "    <tr style=\"text-align: right;\">\n",
       "      <th></th>\n",
       "      <th>EDUC</th>\n",
       "      <th>EXPER</th>\n",
       "      <th>WAGE</th>\n",
       "      <th>y</th>\n",
       "    </tr>\n",
       "  </thead>\n",
       "  <tbody>\n",
       "    <tr>\n",
       "      <th>0</th>\n",
       "      <td>16</td>\n",
       "      <td>24</td>\n",
       "      <td>7.000000</td>\n",
       "      <td>0</td>\n",
       "    </tr>\n",
       "    <tr>\n",
       "      <th>1</th>\n",
       "      <td>12</td>\n",
       "      <td>36</td>\n",
       "      <td>13.500000</td>\n",
       "      <td>0</td>\n",
       "    </tr>\n",
       "    <tr>\n",
       "      <th>2</th>\n",
       "      <td>20</td>\n",
       "      <td>16</td>\n",
       "      <td>15.350000</td>\n",
       "      <td>1</td>\n",
       "    </tr>\n",
       "    <tr>\n",
       "      <th>3</th>\n",
       "      <td>12</td>\n",
       "      <td>21</td>\n",
       "      <td>23.125000</td>\n",
       "      <td>1</td>\n",
       "    </tr>\n",
       "    <tr>\n",
       "      <th>4</th>\n",
       "      <td>18</td>\n",
       "      <td>30</td>\n",
       "      <td>12.000000</td>\n",
       "      <td>0</td>\n",
       "    </tr>\n",
       "    <tr>\n",
       "      <th>5</th>\n",
       "      <td>12</td>\n",
       "      <td>17</td>\n",
       "      <td>7.700000</td>\n",
       "      <td>0</td>\n",
       "    </tr>\n",
       "    <tr>\n",
       "      <th>6</th>\n",
       "      <td>14</td>\n",
       "      <td>16</td>\n",
       "      <td>16.460000</td>\n",
       "      <td>1</td>\n",
       "    </tr>\n",
       "    <tr>\n",
       "      <th>7</th>\n",
       "      <td>12</td>\n",
       "      <td>19</td>\n",
       "      <td>7.070000</td>\n",
       "      <td>0</td>\n",
       "    </tr>\n",
       "    <tr>\n",
       "      <th>8</th>\n",
       "      <td>12</td>\n",
       "      <td>34</td>\n",
       "      <td>6.042857</td>\n",
       "      <td>0</td>\n",
       "    </tr>\n",
       "    <tr>\n",
       "      <th>9</th>\n",
       "      <td>16</td>\n",
       "      <td>34</td>\n",
       "      <td>14.900000</td>\n",
       "      <td>0</td>\n",
       "    </tr>\n",
       "    <tr>\n",
       "      <th>10</th>\n",
       "      <td>12</td>\n",
       "      <td>34</td>\n",
       "      <td>10.730000</td>\n",
       "      <td>0</td>\n",
       "    </tr>\n",
       "    <tr>\n",
       "      <th>11</th>\n",
       "      <td>12</td>\n",
       "      <td>26</td>\n",
       "      <td>9.660000</td>\n",
       "      <td>0</td>\n",
       "    </tr>\n",
       "    <tr>\n",
       "      <th>12</th>\n",
       "      <td>12</td>\n",
       "      <td>27</td>\n",
       "      <td>7.000000</td>\n",
       "      <td>0</td>\n",
       "    </tr>\n",
       "    <tr>\n",
       "      <th>13</th>\n",
       "      <td>12</td>\n",
       "      <td>6</td>\n",
       "      <td>8.340000</td>\n",
       "      <td>0</td>\n",
       "    </tr>\n",
       "    <tr>\n",
       "      <th>14</th>\n",
       "      <td>18</td>\n",
       "      <td>14</td>\n",
       "      <td>12.500000</td>\n",
       "      <td>0</td>\n",
       "    </tr>\n",
       "    <tr>\n",
       "      <th>15</th>\n",
       "      <td>7</td>\n",
       "      <td>46</td>\n",
       "      <td>11.660000</td>\n",
       "      <td>0</td>\n",
       "    </tr>\n",
       "    <tr>\n",
       "      <th>16</th>\n",
       "      <td>11</td>\n",
       "      <td>7</td>\n",
       "      <td>8.333333</td>\n",
       "      <td>0</td>\n",
       "    </tr>\n",
       "    <tr>\n",
       "      <th>17</th>\n",
       "      <td>16</td>\n",
       "      <td>12</td>\n",
       "      <td>16.500000</td>\n",
       "      <td>1</td>\n",
       "    </tr>\n",
       "    <tr>\n",
       "      <th>18</th>\n",
       "      <td>18</td>\n",
       "      <td>24</td>\n",
       "      <td>13.460000</td>\n",
       "      <td>0</td>\n",
       "    </tr>\n",
       "    <tr>\n",
       "      <th>19</th>\n",
       "      <td>9</td>\n",
       "      <td>29</td>\n",
       "      <td>9.200000</td>\n",
       "      <td>0</td>\n",
       "    </tr>\n",
       "    <tr>\n",
       "      <th>20</th>\n",
       "      <td>16</td>\n",
       "      <td>20</td>\n",
       "      <td>7.000000</td>\n",
       "      <td>0</td>\n",
       "    </tr>\n",
       "    <tr>\n",
       "      <th>21</th>\n",
       "      <td>16</td>\n",
       "      <td>22</td>\n",
       "      <td>17.088889</td>\n",
       "      <td>1</td>\n",
       "    </tr>\n",
       "    <tr>\n",
       "      <th>22</th>\n",
       "      <td>16</td>\n",
       "      <td>19</td>\n",
       "      <td>22.125000</td>\n",
       "      <td>1</td>\n",
       "    </tr>\n",
       "    <tr>\n",
       "      <th>23</th>\n",
       "      <td>12</td>\n",
       "      <td>14</td>\n",
       "      <td>11.428571</td>\n",
       "      <td>0</td>\n",
       "    </tr>\n",
       "    <tr>\n",
       "      <th>24</th>\n",
       "      <td>12</td>\n",
       "      <td>12</td>\n",
       "      <td>12.000000</td>\n",
       "      <td>0</td>\n",
       "    </tr>\n",
       "    <tr>\n",
       "      <th>25</th>\n",
       "      <td>16</td>\n",
       "      <td>35</td>\n",
       "      <td>3.571429</td>\n",
       "      <td>0</td>\n",
       "    </tr>\n",
       "    <tr>\n",
       "      <th>26</th>\n",
       "      <td>12</td>\n",
       "      <td>24</td>\n",
       "      <td>14.400000</td>\n",
       "      <td>0</td>\n",
       "    </tr>\n",
       "    <tr>\n",
       "      <th>27</th>\n",
       "      <td>16</td>\n",
       "      <td>15</td>\n",
       "      <td>13.825000</td>\n",
       "      <td>0</td>\n",
       "    </tr>\n",
       "    <tr>\n",
       "      <th>28</th>\n",
       "      <td>16</td>\n",
       "      <td>2</td>\n",
       "      <td>8.500000</td>\n",
       "      <td>0</td>\n",
       "    </tr>\n",
       "    <tr>\n",
       "      <th>29</th>\n",
       "      <td>12</td>\n",
       "      <td>42</td>\n",
       "      <td>16.100000</td>\n",
       "      <td>1</td>\n",
       "    </tr>\n",
       "    <tr>\n",
       "      <th>...</th>\n",
       "      <td>...</td>\n",
       "      <td>...</td>\n",
       "      <td>...</td>\n",
       "      <td>...</td>\n",
       "    </tr>\n",
       "    <tr>\n",
       "      <th>1293</th>\n",
       "      <td>12</td>\n",
       "      <td>16</td>\n",
       "      <td>17.000000</td>\n",
       "      <td>1</td>\n",
       "    </tr>\n",
       "    <tr>\n",
       "      <th>1294</th>\n",
       "      <td>12</td>\n",
       "      <td>20</td>\n",
       "      <td>13.690000</td>\n",
       "      <td>0</td>\n",
       "    </tr>\n",
       "    <tr>\n",
       "      <th>1295</th>\n",
       "      <td>12</td>\n",
       "      <td>7</td>\n",
       "      <td>13.500000</td>\n",
       "      <td>0</td>\n",
       "    </tr>\n",
       "    <tr>\n",
       "      <th>1296</th>\n",
       "      <td>14</td>\n",
       "      <td>17</td>\n",
       "      <td>15.330000</td>\n",
       "      <td>1</td>\n",
       "    </tr>\n",
       "    <tr>\n",
       "      <th>1297</th>\n",
       "      <td>16</td>\n",
       "      <td>15</td>\n",
       "      <td>16.150000</td>\n",
       "      <td>1</td>\n",
       "    </tr>\n",
       "    <tr>\n",
       "      <th>1298</th>\n",
       "      <td>12</td>\n",
       "      <td>2</td>\n",
       "      <td>6.000000</td>\n",
       "      <td>0</td>\n",
       "    </tr>\n",
       "    <tr>\n",
       "      <th>1299</th>\n",
       "      <td>12</td>\n",
       "      <td>1</td>\n",
       "      <td>6.500000</td>\n",
       "      <td>0</td>\n",
       "    </tr>\n",
       "    <tr>\n",
       "      <th>1300</th>\n",
       "      <td>12</td>\n",
       "      <td>26</td>\n",
       "      <td>19.900000</td>\n",
       "      <td>1</td>\n",
       "    </tr>\n",
       "    <tr>\n",
       "      <th>1301</th>\n",
       "      <td>16</td>\n",
       "      <td>34</td>\n",
       "      <td>17.700000</td>\n",
       "      <td>1</td>\n",
       "    </tr>\n",
       "    <tr>\n",
       "      <th>1302</th>\n",
       "      <td>14</td>\n",
       "      <td>45</td>\n",
       "      <td>4.250000</td>\n",
       "      <td>0</td>\n",
       "    </tr>\n",
       "    <tr>\n",
       "      <th>1303</th>\n",
       "      <td>12</td>\n",
       "      <td>20</td>\n",
       "      <td>10.000000</td>\n",
       "      <td>0</td>\n",
       "    </tr>\n",
       "    <tr>\n",
       "      <th>1304</th>\n",
       "      <td>12</td>\n",
       "      <td>16</td>\n",
       "      <td>8.150000</td>\n",
       "      <td>0</td>\n",
       "    </tr>\n",
       "    <tr>\n",
       "      <th>1305</th>\n",
       "      <td>12</td>\n",
       "      <td>31</td>\n",
       "      <td>10.820000</td>\n",
       "      <td>0</td>\n",
       "    </tr>\n",
       "    <tr>\n",
       "      <th>1306</th>\n",
       "      <td>16</td>\n",
       "      <td>24</td>\n",
       "      <td>32.700000</td>\n",
       "      <td>1</td>\n",
       "    </tr>\n",
       "    <tr>\n",
       "      <th>1307</th>\n",
       "      <td>12</td>\n",
       "      <td>30</td>\n",
       "      <td>5.050000</td>\n",
       "      <td>0</td>\n",
       "    </tr>\n",
       "    <tr>\n",
       "      <th>1308</th>\n",
       "      <td>12</td>\n",
       "      <td>22</td>\n",
       "      <td>12.054545</td>\n",
       "      <td>0</td>\n",
       "    </tr>\n",
       "    <tr>\n",
       "      <th>1309</th>\n",
       "      <td>18</td>\n",
       "      <td>36</td>\n",
       "      <td>28.850000</td>\n",
       "      <td>1</td>\n",
       "    </tr>\n",
       "    <tr>\n",
       "      <th>1310</th>\n",
       "      <td>10</td>\n",
       "      <td>35</td>\n",
       "      <td>12.000000</td>\n",
       "      <td>0</td>\n",
       "    </tr>\n",
       "    <tr>\n",
       "      <th>1311</th>\n",
       "      <td>16</td>\n",
       "      <td>3</td>\n",
       "      <td>5.600000</td>\n",
       "      <td>0</td>\n",
       "    </tr>\n",
       "    <tr>\n",
       "      <th>1312</th>\n",
       "      <td>12</td>\n",
       "      <td>30</td>\n",
       "      <td>8.500000</td>\n",
       "      <td>0</td>\n",
       "    </tr>\n",
       "    <tr>\n",
       "      <th>1313</th>\n",
       "      <td>12</td>\n",
       "      <td>22</td>\n",
       "      <td>11.550000</td>\n",
       "      <td>0</td>\n",
       "    </tr>\n",
       "    <tr>\n",
       "      <th>1314</th>\n",
       "      <td>11</td>\n",
       "      <td>37</td>\n",
       "      <td>10.250000</td>\n",
       "      <td>0</td>\n",
       "    </tr>\n",
       "    <tr>\n",
       "      <th>1315</th>\n",
       "      <td>12</td>\n",
       "      <td>7</td>\n",
       "      <td>11.050000</td>\n",
       "      <td>0</td>\n",
       "    </tr>\n",
       "    <tr>\n",
       "      <th>1316</th>\n",
       "      <td>12</td>\n",
       "      <td>32</td>\n",
       "      <td>15.800000</td>\n",
       "      <td>1</td>\n",
       "    </tr>\n",
       "    <tr>\n",
       "      <th>1317</th>\n",
       "      <td>14</td>\n",
       "      <td>27</td>\n",
       "      <td>19.375000</td>\n",
       "      <td>1</td>\n",
       "    </tr>\n",
       "    <tr>\n",
       "      <th>1318</th>\n",
       "      <td>12</td>\n",
       "      <td>15</td>\n",
       "      <td>15.000000</td>\n",
       "      <td>0</td>\n",
       "    </tr>\n",
       "    <tr>\n",
       "      <th>1319</th>\n",
       "      <td>12</td>\n",
       "      <td>15</td>\n",
       "      <td>20.000000</td>\n",
       "      <td>1</td>\n",
       "    </tr>\n",
       "    <tr>\n",
       "      <th>1320</th>\n",
       "      <td>12</td>\n",
       "      <td>9</td>\n",
       "      <td>9.500000</td>\n",
       "      <td>0</td>\n",
       "    </tr>\n",
       "    <tr>\n",
       "      <th>1321</th>\n",
       "      <td>5</td>\n",
       "      <td>24</td>\n",
       "      <td>9.750000</td>\n",
       "      <td>0</td>\n",
       "    </tr>\n",
       "    <tr>\n",
       "      <th>1322</th>\n",
       "      <td>16</td>\n",
       "      <td>19</td>\n",
       "      <td>17.000000</td>\n",
       "      <td>1</td>\n",
       "    </tr>\n",
       "  </tbody>\n",
       "</table>\n",
       "<p>1323 rows × 4 columns</p>\n",
       "</div>"
      ],
      "text/plain": [
       "      EDUC  EXPER       WAGE  y\n",
       "0       16     24   7.000000  0\n",
       "1       12     36  13.500000  0\n",
       "2       20     16  15.350000  1\n",
       "3       12     21  23.125000  1\n",
       "4       18     30  12.000000  0\n",
       "5       12     17   7.700000  0\n",
       "6       14     16  16.460000  1\n",
       "7       12     19   7.070000  0\n",
       "8       12     34   6.042857  0\n",
       "9       16     34  14.900000  0\n",
       "10      12     34  10.730000  0\n",
       "11      12     26   9.660000  0\n",
       "12      12     27   7.000000  0\n",
       "13      12      6   8.340000  0\n",
       "14      18     14  12.500000  0\n",
       "15       7     46  11.660000  0\n",
       "16      11      7   8.333333  0\n",
       "17      16     12  16.500000  1\n",
       "18      18     24  13.460000  0\n",
       "19       9     29   9.200000  0\n",
       "20      16     20   7.000000  0\n",
       "21      16     22  17.088889  1\n",
       "22      16     19  22.125000  1\n",
       "23      12     14  11.428571  0\n",
       "24      12     12  12.000000  0\n",
       "25      16     35   3.571429  0\n",
       "26      12     24  14.400000  0\n",
       "27      16     15  13.825000  0\n",
       "28      16      2   8.500000  0\n",
       "29      12     42  16.100000  1\n",
       "...    ...    ...        ... ..\n",
       "1293    12     16  17.000000  1\n",
       "1294    12     20  13.690000  0\n",
       "1295    12      7  13.500000  0\n",
       "1296    14     17  15.330000  1\n",
       "1297    16     15  16.150000  1\n",
       "1298    12      2   6.000000  0\n",
       "1299    12      1   6.500000  0\n",
       "1300    12     26  19.900000  1\n",
       "1301    16     34  17.700000  1\n",
       "1302    14     45   4.250000  0\n",
       "1303    12     20  10.000000  0\n",
       "1304    12     16   8.150000  0\n",
       "1305    12     31  10.820000  0\n",
       "1306    16     24  32.700000  1\n",
       "1307    12     30   5.050000  0\n",
       "1308    12     22  12.054545  0\n",
       "1309    18     36  28.850000  1\n",
       "1310    10     35  12.000000  0\n",
       "1311    16      3   5.600000  0\n",
       "1312    12     30   8.500000  0\n",
       "1313    12     22  11.550000  0\n",
       "1314    11     37  10.250000  0\n",
       "1315    12      7  11.050000  0\n",
       "1316    12     32  15.800000  1\n",
       "1317    14     27  19.375000  1\n",
       "1318    12     15  15.000000  0\n",
       "1319    12     15  20.000000  1\n",
       "1320    12      9   9.500000  0\n",
       "1321     5     24   9.750000  0\n",
       "1322    16     19  17.000000  1\n",
       "\n",
       "[1323 rows x 4 columns]"
      ]
     },
     "execution_count": 4,
     "metadata": {},
     "output_type": "execute_result"
    }
   ],
   "source": [
    "sub_df"
   ]
  },
  {
   "cell_type": "code",
   "execution_count": 5,
   "metadata": {
    "collapsed": true
   },
   "outputs": [],
   "source": [
    "y = sub_df['y'].values\n",
    "X = sub_df.drop(['y','WAGE'], axis=1).values"
   ]
  },
  {
   "cell_type": "markdown",
   "metadata": {},
   "source": [
    "## KNN"
   ]
  },
  {
   "cell_type": "markdown",
   "metadata": {},
   "source": [
    "Vamos escolher o K para testar o modelo"
   ]
  },
  {
   "cell_type": "code",
   "execution_count": 6,
   "metadata": {
    "collapsed": false
   },
   "outputs": [
    {
     "name": "stdout",
     "output_type": "stream",
     "text": [
      "Digite o número de vizinhos: \n",
      "40\n"
     ]
    }
   ],
   "source": [
    "print(\"Digite o número de vizinhos: \")\n",
    "num_viz = int(input())"
   ]
  },
  {
   "cell_type": "code",
   "execution_count": 7,
   "metadata": {
    "collapsed": false
   },
   "outputs": [
    {
     "data": {
      "text/plain": [
       "KNeighborsClassifier(algorithm='auto', leaf_size=30, metric='minkowski',\n",
       "           metric_params=None, n_jobs=1, n_neighbors=40, p=2,\n",
       "           weights='uniform')"
      ]
     },
     "execution_count": 7,
     "metadata": {},
     "output_type": "execute_result"
    }
   ],
   "source": [
    "knn = KNeighborsClassifier(n_neighbors=num_viz)\n",
    "knn.fit(X,y)"
   ]
  },
  {
   "cell_type": "code",
   "execution_count": 8,
   "metadata": {
    "collapsed": true
   },
   "outputs": [],
   "source": [
    "X_train, X_test, y_train, y_test = train_test_split(X, y, test_size = 0.2, random_state=42, stratify=y)"
   ]
  },
  {
   "cell_type": "code",
   "execution_count": 9,
   "metadata": {
    "collapsed": false
   },
   "outputs": [
    {
     "data": {
      "text/plain": [
       "KNeighborsClassifier(algorithm='auto', leaf_size=30, metric='minkowski',\n",
       "           metric_params=None, n_jobs=1, n_neighbors=40, p=2,\n",
       "           weights='uniform')"
      ]
     },
     "execution_count": 9,
     "metadata": {},
     "output_type": "execute_result"
    }
   ],
   "source": [
    "knn.fit(X_train,y_train)"
   ]
  },
  {
   "cell_type": "markdown",
   "metadata": {},
   "source": [
    "#### Primeira avaliação do modelo"
   ]
  },
  {
   "cell_type": "code",
   "execution_count": 10,
   "metadata": {
    "collapsed": false
   },
   "outputs": [
    {
     "name": "stdout",
     "output_type": "stream",
     "text": [
      "             precision    recall  f1-score   support\n",
      "\n",
      "          0       0.78      0.96      0.86       198\n",
      "          1       0.63      0.18      0.28        67\n",
      "\n",
      "avg / total       0.74      0.77      0.71       265\n",
      "\n"
     ]
    }
   ],
   "source": [
    "y_pred = knn.predict(X_test)\n",
    "print(classification_report(y_test, y_pred))"
   ]
  },
  {
   "cell_type": "code",
   "execution_count": 11,
   "metadata": {
    "collapsed": false
   },
   "outputs": [
    {
     "name": "stdout",
     "output_type": "stream",
     "text": [
      "[[191   7]\n",
      " [ 55  12]]\n"
     ]
    }
   ],
   "source": [
    "confmat = confusion_matrix(y_true=y_test, y_pred=y_pred)\n",
    "print(confmat)"
   ]
  },
  {
   "cell_type": "markdown",
   "metadata": {},
   "source": [
    "#### Análise da Precision, Recall, AUC e ROC"
   ]
  },
  {
   "cell_type": "code",
   "execution_count": 12,
   "metadata": {
    "collapsed": false
   },
   "outputs": [
    {
     "name": "stdout",
     "output_type": "stream",
     "text": [
      "Range desejado: \n",
      "1\n",
      "100\n"
     ]
    }
   ],
   "source": [
    "print(\"Range desejado: \")\n",
    "viz_min = int(input())\n",
    "viz_max = int(input())"
   ]
  },
  {
   "cell_type": "code",
   "execution_count": 13,
   "metadata": {
    "collapsed": false
   },
   "outputs": [
    {
     "name": "stdout",
     "output_type": "stream",
     "text": [
      "1 | 0.5879692446856626\n",
      "2 | 0.6726594301221167\n",
      "3 | 0.7051484999246194\n",
      "4 | 0.7252374491180461\n",
      "5 | 0.7369968340117594\n",
      "6 | 0.758631086989296\n",
      "7 | 0.7767224483642394\n",
      "8 | 0.7729534147444594\n",
      "9 | 0.7597994874114277\n",
      "10 | 0.7527513945424393\n",
      "11 | 0.7454017789838685\n",
      "12 | 0.7409543193125283\n",
      "13 | 0.7524121815166591\n",
      "14 | 0.7571988542137796\n",
      "15 | 0.7514322327755164\n",
      "16 | 0.7547489823609227\n",
      "17 | 0.7654153475048998\n",
      "18 | 0.7556912407658676\n",
      "19 | 0.7710312075983717\n",
      "20 | 0.7738202924770089\n",
      "21 | 0.767036031961405\n",
      "22 | 0.7716719433137343\n",
      "23 | 0.7700889491934269\n",
      "24 | 0.7783808231569427\n",
      "25 | 0.7787200361827227\n",
      "26 | 0.7770993517262174\n",
      "27 | 0.7790969395447007\n",
      "28 | 0.776986280717624\n",
      "29 | 0.7787954168551184\n",
      "30 | 0.7715211819689431\n",
      "31 | 0.7747248605457561\n",
      "32 | 0.7832428765264585\n",
      "33 | 0.78184833408714\n",
      "34 | 0.7760063319764812\n",
      "35 | 0.7731795567616463\n",
      "36 | 0.767262173978592\n",
      "37 | 0.7708804462535807\n",
      "38 | 0.7749133122267452\n",
      "39 | 0.7734433891150309\n",
      "40 | 0.7764586160108548\n",
      "41 | 0.7744610281923715\n",
      "42 | 0.7743856475199759\n",
      "43 | 0.773254937434042\n",
      "44 | 0.7744233378561737\n",
      "45 | 0.7760063319764813\n",
      "46 | 0.7765339966832504\n",
      "47 | 0.775478667269712\n",
      "48 | 0.7753279059249208\n",
      "49 | 0.7767224483642394\n",
      "50 | 0.7819990954319314\n",
      "51 | 0.7761947836574703\n",
      "52 | 0.7815845017337555\n",
      "53 | 0.7810191466907884\n",
      "54 | 0.7821875471129203\n",
      "55 | 0.7809060756821951\n",
      "56 | 0.7796622945876677\n",
      "57 | 0.7789461781999096\n",
      "58 | 0.7847881803105683\n",
      "59 | 0.7802276496306347\n",
      "60 | 0.7859188903965023\n",
      "61 | 0.782602140811096\n",
      "62 | 0.7803784109754259\n",
      "63 | 0.7819990954319312\n",
      "64 | 0.7782300618121514\n",
      "65 | 0.7745364088647672\n",
      "66 | 0.7758555706316901\n",
      "67 | 0.7778908487863712\n",
      "68 | 0.7719734660033167\n",
      "69 | 0.7743856475199759\n",
      "70 | 0.7751771445801297\n",
      "71 | 0.7770616613900196\n",
      "72 | 0.7780793004673601\n",
      "73 | 0.7721242273481079\n",
      "74 | 0.7740841248303935\n",
      "75 | 0.7742725765113825\n",
      "76 | 0.7708804462535805\n",
      "77 | 0.7711442786069652\n",
      "78 | 0.7720488466757124\n",
      "79 | 0.7730664857530529\n",
      "80 | 0.7728026533996684\n",
      "81 | 0.7721242273481079\n",
      "82 | 0.7751394542439318\n",
      "83 | 0.7765716870194481\n",
      "84 | 0.777174732398613\n",
      "85 | 0.7758178802954923\n",
      "86 | 0.7741971958389869\n",
      "87 | 0.7715211819689431\n",
      "88 | 0.772312679029097\n",
      "89 | 0.7754409769335142\n",
      "90 | 0.7751394542439318\n",
      "91 | 0.7735187697874265\n",
      "92 | 0.7780039197949646\n",
      "93 | 0.7754032865973165\n",
      "94 | 0.773594150459822\n",
      "95 | 0.7739710538218001\n",
      "96 | 0.7723126790290968\n",
      "97 | 0.7710688979345696\n",
      "98 | 0.7765716870194482\n",
      "99 | 0.7747625508819539\n"
     ]
    },
    {
     "data": {
      "image/png": "[encoded data removed]",
      "text/plain": [
       "<matplotlib.figure.Figure at 0x28628d57470>"
      ]
     },
     "metadata": {},
     "output_type": "display_data"
    },
    {
     "data": {
      "image/png": "[encoded data removed]",
      "text/plain": [
       "<matplotlib.figure.Figure at 0x28628d57048>"
      ]
     },
     "metadata": {},
     "output_type": "display_data"
    }
   ],
   "source": [
    "viz = np.arange(viz_min, viz_max)\n",
    "precision = []\n",
    "recall = []\n",
    "rocauc = []\n",
    "\n",
    "for i in range(viz_min, viz_max):\n",
    "    knn = KNeighborsClassifier(n_neighbors = i)\n",
    "    knn.fit(X,y)\n",
    "    X_train, X_test, y_train, y_test = train_test_split(X, y, test_size = 0.2, random_state=42, stratify=y)\n",
    "    knn.fit(X_train, y_train)\n",
    "    y_pred = knn.predict(X_test)\n",
    "    precision.append(precision_score(y_true=y_test, y_pred=y_pred))\n",
    "    recall.append(recall_score(y_true=y_test, y_pred=y_pred))\n",
    "    y_pred_knn = knn.predict_proba(X_test)[:,1]\n",
    "    rocauc.append(roc_auc_score(y_test, y_pred_knn))\n",
    "\n",
    "for j in range(len(rocauc)):\n",
    "    print(j+1,'|', rocauc[j])\n",
    "\n",
    "plt.title('k-NN: Variando Número de Vizinhos')\n",
    "plt.plot(viz, precision, label = 'Precision')\n",
    "plt.plot(viz, recall, label = 'Recall')\n",
    "plt.legend()\n",
    "plt.xlabel('Número de Vizinhos')\n",
    "plt.ylabel('Precision e Recall')\n",
    "plt.show()\n",
    "\n",
    "plt.title('k-NN: Variando Número de Vizinhos')\n",
    "plt.plot(viz, rocauc, label = \"ROC-AUC-SCORE (AUC)\")\n",
    "plt.legend()\n",
    "plt.xlabel('Número de Vizinhos')\n",
    "plt.ylabel('Roc-Auc')\n",
    "plt.show()"
   ]
  },
  {
   "cell_type": "markdown",
   "metadata": {},
   "source": [
    "O primeiro gráfico evidencia o trade-off entre Precision e Recall\n",
    "Pelo segundo gráfico, considerando testes até 50 vizinhos, 32 é um resultado razoável"
   ]
  },
  {
   "cell_type": "markdown",
   "metadata": {},
   "source": [
    "#### Análise da Accuracy (testing&training sets)"
   ]
  },
  {
   "cell_type": "code",
   "execution_count": 14,
   "metadata": {
    "collapsed": false
   },
   "outputs": [
    {
     "data": {
      "image/png": "[encoded data removed]",
      "text/plain": [
       "<matplotlib.figure.Figure at 0x286290ca400>"
      ]
     },
     "metadata": {},
     "output_type": "display_data"
    }
   ],
   "source": [
    "vizinhos = np.arange(viz_min, viz_max)\n",
    "train_accuracy = np.empty(len(vizinhos))\n",
    "test_accuracy = np.empty(len(vizinhos))\n",
    "\n",
    "for i, k in enumerate(vizinhos):\n",
    "    knn = KNeighborsClassifier(n_neighbors = k)\n",
    "\n",
    "    knn.fit(X_train, y_train)\n",
    "    \n",
    "    train_accuracy[i] = knn.score(X_train, y_train)\n",
    "\n",
    "    test_accuracy[i] = knn.score(X_test, y_test)\n",
    "\n",
    "plt.title('k-NN: Variando Número de Vizinhos')\n",
    "plt.plot(vizinhos, train_accuracy, label = 'Training Accuracy')\n",
    "plt.plot(vizinhos, test_accuracy, label = 'Testing Accuracy')\n",
    "plt.legend()\n",
    "plt.xlabel('Número de Vizinhos')\n",
    "plt.ylabel('Accuracy')\n",
    "plt.show()"
   ]
  },
  {
   "cell_type": "markdown",
   "metadata": {},
   "source": [
    "## ROC e Cross-Validation com Normalização"
   ]
  },
  {
   "cell_type": "code",
   "execution_count": 15,
   "metadata": {
    "collapsed": false
   },
   "outputs": [
    {
     "data": {
      "text/html": [
       "<div>\n",
       "<table border=\"1\" class=\"dataframe\">\n",
       "  <thead>\n",
       "    <tr style=\"text-align: right;\">\n",
       "      <th></th>\n",
       "      <th>FEMALE</th>\n",
       "      <th>NONWHITE</th>\n",
       "      <th>UNION</th>\n",
       "      <th>EDUC</th>\n",
       "      <th>AGE</th>\n",
       "      <th>EXPER</th>\n",
       "      <th>WAGE</th>\n",
       "    </tr>\n",
       "  </thead>\n",
       "  <tbody>\n",
       "    <tr>\n",
       "      <th>0</th>\n",
       "      <td>1</td>\n",
       "      <td>0</td>\n",
       "      <td>0</td>\n",
       "      <td>1.050639</td>\n",
       "      <td>0.660295</td>\n",
       "      <td>0.403841</td>\n",
       "      <td>-0.702796</td>\n",
       "    </tr>\n",
       "    <tr>\n",
       "      <th>1</th>\n",
       "      <td>1</td>\n",
       "      <td>0</td>\n",
       "      <td>0</td>\n",
       "      <td>-0.407908</td>\n",
       "      <td>1.347808</td>\n",
       "      <td>1.413031</td>\n",
       "      <td>0.177765</td>\n",
       "    </tr>\n",
       "    <tr>\n",
       "      <th>2</th>\n",
       "      <td>1</td>\n",
       "      <td>0</td>\n",
       "      <td>0</td>\n",
       "      <td>2.509185</td>\n",
       "      <td>0.316539</td>\n",
       "      <td>-0.268952</td>\n",
       "      <td>0.428386</td>\n",
       "    </tr>\n",
       "    <tr>\n",
       "      <th>3</th>\n",
       "      <td>0</td>\n",
       "      <td>0</td>\n",
       "      <td>0</td>\n",
       "      <td>-0.407908</td>\n",
       "      <td>0.058722</td>\n",
       "      <td>0.151544</td>\n",
       "      <td>1.481672</td>\n",
       "    </tr>\n",
       "    <tr>\n",
       "      <th>4</th>\n",
       "      <td>0</td>\n",
       "      <td>0</td>\n",
       "      <td>0</td>\n",
       "      <td>1.779912</td>\n",
       "      <td>1.347808</td>\n",
       "      <td>0.908436</td>\n",
       "      <td>-0.025441</td>\n",
       "    </tr>\n",
       "  </tbody>\n",
       "</table>\n",
       "</div>"
      ],
      "text/plain": [
       "   FEMALE  NONWHITE  UNION      EDUC       AGE     EXPER      WAGE\n",
       "0       1         0      0  1.050639  0.660295  0.403841 -0.702796\n",
       "1       1         0      0 -0.407908  1.347808  1.413031  0.177765\n",
       "2       1         0      0  2.509185  0.316539 -0.268952  0.428386\n",
       "3       0         0      0 -0.407908  0.058722  0.151544  1.481672\n",
       "4       0         0      0  1.779912  1.347808  0.908436 -0.025441"
      ]
     },
     "execution_count": 15,
     "metadata": {},
     "output_type": "execute_result"
    }
   ],
   "source": [
    "dados['EDUC'] = (dados['EDUC']-np.mean(dados['EDUC']))/np.std(dados['EDUC'])\n",
    "dados['AGE'] = (dados['AGE']-np.mean(dados['AGE']))/np.std(dados['AGE'])\n",
    "dados['EXPER'] = (dados['EXPER']-np.mean(dados['EXPER']))/np.std(dados['EXPER'])\n",
    "dados['WAGE'] = (dados['WAGE']-np.mean(dados['WAGE']))/np.std(dados['WAGE'])\n",
    "\n",
    "dados_norm = dados.drop(['LNWAGE'], axis='columns')\n",
    "dados_norm.head()"
   ]
  },
  {
   "cell_type": "markdown",
   "metadata": {},
   "source": [
    "Agora, vamos usar Reg Log e KNN sobre os dados normalizados (sugestão para K -> 32 )"
   ]
  },
  {
   "cell_type": "code",
   "execution_count": 16,
   "metadata": {
    "collapsed": false
   },
   "outputs": [
    {
     "name": "stdout",
     "output_type": "stream",
     "text": [
      "32\n"
     ]
    }
   ],
   "source": [
    "num_viz = int(input())"
   ]
  },
  {
   "cell_type": "markdown",
   "metadata": {},
   "source": [
    "Primeira avaliação"
   ]
  },
  {
   "cell_type": "code",
   "execution_count": 17,
   "metadata": {
    "collapsed": false
   },
   "outputs": [
    {
     "name": "stdout",
     "output_type": "stream",
     "text": [
      "             precision    recall  f1-score   support\n",
      "\n",
      "          0       0.80      0.92      0.86       198\n",
      "          1       0.58      0.33      0.42        67\n",
      "\n",
      "avg / total       0.75      0.77      0.75       265\n",
      "\n",
      "             precision    recall  f1-score   support\n",
      "\n",
      "          0       0.80      0.93      0.86       198\n",
      "          1       0.59      0.30      0.40        67\n",
      "\n",
      "avg / total       0.74      0.77      0.74       265\n",
      "\n"
     ]
    }
   ],
   "source": [
    "log_reg = LogisticRegression()\n",
    "X = dados.drop(['WAGE', 'LNWAGE'], axis = 1).values\n",
    "X_train, X_test, y_train, y_test = train_test_split(X, y, test_size = 0.2, random_state=42, stratify=y)\n",
    "\n",
    "log_reg.fit(X_train,y_train)\n",
    "y_pred = log_reg.predict(X_test)\n",
    "print(classification_report(y_test, y_pred))\n",
    "\n",
    "knn = KNeighborsClassifier(n_neighbors=num_viz)\n",
    "knn.fit(X_train, y_train)\n",
    "y_pred_knn = knn.predict(X_test)\n",
    "print(classification_report(y_test, y_pred_knn))"
   ]
  },
  {
   "cell_type": "markdown",
   "metadata": {},
   "source": [
    "Avaliando cada modelo com cross-validation"
   ]
  },
  {
   "cell_type": "code",
   "execution_count": 18,
   "metadata": {
    "collapsed": false
   },
   "outputs": [
    {
     "name": "stdout",
     "output_type": "stream",
     "text": [
      "Média dos Scores CV (K-NN): 0.765666094911378\n"
     ]
    }
   ],
   "source": [
    "cv_scores = cross_val_score(knn, X, y, cv=5)\n",
    "print(\"Média dos Scores CV (K-NN): {}\".format(np.mean(cv_scores)))"
   ]
  },
  {
   "cell_type": "code",
   "execution_count": 19,
   "metadata": {
    "collapsed": false
   },
   "outputs": [
    {
     "name": "stdout",
     "output_type": "stream",
     "text": [
      "Média dos Scores CV (Reg. Logística): 0.7702029731275013\n"
     ]
    }
   ],
   "source": [
    "cv_scores = cross_val_score(log_reg, X, y, cv=5)\n",
    "print(\"Média dos Scores CV (Reg. Logística): {}\".format(np.mean(cv_scores)))"
   ]
  },
  {
   "cell_type": "code",
   "execution_count": 20,
   "metadata": {
    "collapsed": true
   },
   "outputs": [],
   "source": [
    "cv_metrics = cross_validate(knn, X, y, cv=5, scoring=('precision', 'recall'))"
   ]
  },
  {
   "cell_type": "code",
   "execution_count": 21,
   "metadata": {
    "collapsed": false
   },
   "outputs": [
    {
     "name": "stdout",
     "output_type": "stream",
     "text": [
      "Média das Precisions CV (K-NN): 0.578981722656337\n",
      "Média das Recalls CV (K-NN): 0.29253731343283584\n"
     ]
    }
   ],
   "source": [
    "print(\"Média das Precisions CV (K-NN): {}\".format(np.mean(cv_metrics['test_precision'])))\n",
    "print(\"Média das Recalls CV (K-NN): {}\".format(np.mean(cv_metrics['test_recall'])))"
   ]
  },
  {
   "cell_type": "code",
   "execution_count": 22,
   "metadata": {
    "collapsed": true
   },
   "outputs": [],
   "source": [
    "cv_metrics = cross_validate(log_reg, X, y, cv=5, scoring=('precision', 'recall'))"
   ]
  },
  {
   "cell_type": "code",
   "execution_count": 23,
   "metadata": {
    "collapsed": false
   },
   "outputs": [
    {
     "name": "stdout",
     "output_type": "stream",
     "text": [
      "Média das Precisions CV (Reg. Logística): 0.6002183600713012\n",
      "Média das Recalls CV (Reg. Logística): 0.30746268656716413\n"
     ]
    }
   ],
   "source": [
    "print(\"Média das Precisions CV (Reg. Logística): {}\".format(np.mean(cv_metrics['test_precision'])))\n",
    "print(\"Média das Recalls CV (Reg. Logística): {}\".format(np.mean(cv_metrics['test_recall'])))"
   ]
  },
  {
   "cell_type": "markdown",
   "metadata": {},
   "source": [
    "#### Gráfico ROC Curve"
   ]
  },
  {
   "cell_type": "code",
   "execution_count": 24,
   "metadata": {
    "collapsed": true
   },
   "outputs": [],
   "source": [
    "y_pred_log = log_reg.predict_proba(X_test)[:,1]\n",
    "y_pred_knn = knn.predict_proba(X_test)[:,1]"
   ]
  },
  {
   "cell_type": "code",
   "execution_count": 25,
   "metadata": {
    "collapsed": false
   },
   "outputs": [
    {
     "name": "stdout",
     "output_type": "stream",
     "text": [
      "Média de precision-recall: 0.57\n",
      "Média de precision-recall: 0.55\n"
     ]
    }
   ],
   "source": [
    "average_precision_log = average_precision_score(y_test, y_pred_log)\n",
    "average_precision_knn = average_precision_score(y_test, y_pred_knn)\n",
    "\n",
    "print('Média de precision-recall: {0:0.2f}'.format(\n",
    "      average_precision_log))\n",
    "print('Média de precision-recall: {0:0.2f}'.format(\n",
    "      average_precision_knn))"
   ]
  },
  {
   "cell_type": "code",
   "execution_count": 27,
   "metadata": {
    "collapsed": true
   },
   "outputs": [],
   "source": [
    "fpr_log, tpr_log, thresholds = roc_curve(y_test, y_pred_log)\n",
    "fpr_knn, tpr_knn, thresholds = roc_curve(y_test, y_pred_knn)"
   ]
  },
  {
   "cell_type": "code",
   "execution_count": 28,
   "metadata": {
    "collapsed": false
   },
   "outputs": [
    {
     "name": "stdout",
     "output_type": "stream",
     "text": [
      "0.8002789084878636\n",
      "0.7981305593245892\n"
     ]
    }
   ],
   "source": [
    "roc_auc_log = auc(fpr_log, tpr_log)\n",
    "print(roc_auc_log)\n",
    "\n",
    "roc_auc_knn = auc(fpr_knn, tpr_knn)\n",
    "print(roc_auc_knn)"
   ]
  },
  {
   "cell_type": "code",
   "execution_count": 29,
   "metadata": {
    "collapsed": false
   },
   "outputs": [
    {
     "data": {
      "image/png": "[encoded data removed]",
      "text/plain": [
       "<matplotlib.figure.Figure at 0x2862931fac8>"
      ]
     },
     "metadata": {},
     "output_type": "display_data"
    }
   ],
   "source": [
    "plt.figure()\n",
    "lw = 2\n",
    "plt.plot(fpr_log, tpr_log, color='red',\n",
    "         lw=lw, label='ROC curve (area = %0.2f)' % roc_auc_log)\n",
    "plt.plot(fpr_knn, tpr_knn, color='black',\n",
    "         lw=lw, label='ROC curve (area = %0.2f)' % roc_auc_knn)\n",
    "plt.plot([0, 1], [0, 1], color='navy', lw=lw, linestyle='--')\n",
    "plt.xlim([0.0, 1.0])\n",
    "plt.ylim([0.0, 1.05])\n",
    "plt.xlabel('False Positive Rate')\n",
    "plt.ylabel('True Positive Rate')\n",
    "plt.title('ROC')\n",
    "plt.legend(loc=\"lower right\")\n",
    "plt.show()"
   ]
  }
 ],
 "metadata": {
  "anaconda-cloud": {},
  "kernelspec": {
   "display_name": "Python [conda root]",
   "language": "python",
   "name": "conda-root-py"
  },
  "language_info": {
   "codemirror_mode": {
    "name": "ipython",
    "version": 3
   },
   "file_extension": ".py",
   "mimetype": "text/x-python",
   "name": "python",
   "nbconvert_exporter": "python",
   "pygments_lexer": "ipython3",
   "version": "3.5.2"
  }
 },
 "nbformat": 4,
 "nbformat_minor": 1
}
